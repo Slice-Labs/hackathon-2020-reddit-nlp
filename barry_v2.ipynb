{
 "cells": [
  {
   "cell_type": "code",
   "execution_count": null,
   "metadata": {},
   "outputs": [],
   "source": [
    "import pandas as pd\n",
    "import json\n",
    "import matplotlib.pyplot as plt\n",
    "import spacy\n",
    "from spacy import displacy\n",
    "import numpy as np\n",
    "import warnings\n",
    "from cleaning import normalize\n",
    "warnings.filterwarnings(\"ignore\", category=DeprecationWarning) \n",
    "%matplotlib inline"
   ]
  },
  {
   "cell_type": "code",
   "execution_count": 19,
   "metadata": {},
   "outputs": [],
   "source": [
    "from notebook.services.config import ConfigManager\n",
    "cm = ConfigManager().update('notebook', {'limit_output': 10})"
   ]
  },
  {
   "cell_type": "markdown",
   "metadata": {},
   "source": [
    "# Airbnb"
   ]
  },
  {
   "cell_type": "code",
   "execution_count": 238,
   "metadata": {},
   "outputs": [
    {
     "name": "stdout",
     "output_type": "stream",
     "text": [
      "loaded 1000 reddit submissions\n"
     ]
    }
   ],
   "source": [
    "from reddit import load\n",
    "\n",
    "# add additional subreddits below or comment them out with #\n",
    "subreddits = \"\"\"\\\n",
    "https://www.reddit.com/r/AirBnB/\n",
    "#https://www.reddit.com/r/AmazonFlexDrivers/\n",
    "#https://www.reddit.com/r/Etsy/\n",
    "#https://www.reddit.com/r/InstacartShoppers/\n",
    "#https://www.reddit.com/r/TaskRabbit\n",
    "#https://www.reddit.com/r/beermoney/\n",
    "#https://www.reddit.com/r/couriersofreddit\n",
    "#https://www.reddit.com/r/doordash/\n",
    "#https://www.reddit.com/r/freelance/\n",
    "#https://www.reddit.com/r/lyftdrivers/\n",
    "#https://www.reddit.com/r/turo/\n",
    "#https://www.reddit.com/r/uberdrivers/\n",
    "#https://www.reddit.com/r/ridesharedrivers/\n",
    "\"\"\"\n",
    "\n",
    "data = load(subreddits.split())"
   ]
  },
  {
   "cell_type": "code",
   "execution_count": 3,
   "metadata": {},
   "outputs": [],
   "source": [
    "nlp = spacy.load('en_core_web_md') # disable=['parser', 'ner'])\n",
    "spacy_stopwords = nlp.Defaults.stop_words"
   ]
  },
  {
   "cell_type": "code",
   "execution_count": 239,
   "metadata": {},
   "outputs": [],
   "source": [
    "docs = [d['title'] + ' ' + d['text'] for d in data]\n",
    "normalized_docs = [normalize(nlp, d, remove_stops=True, ngrams=True) for d in docs]\n",
    "docs_tokenized = [d.split() for d in normalized_docs]"
   ]
  },
  {
   "cell_type": "code",
   "execution_count": 240,
   "metadata": {},
   "outputs": [],
   "source": [
    "flat_doc = [item for sublist in docs_tokenized for item in sublist]"
   ]
  },
  {
   "cell_type": "code",
   "execution_count": 241,
   "metadata": {},
   "outputs": [],
   "source": [
    "from collections import Counter\n",
    "word_freq = Counter(flat_doc)\n",
    "common_words = word_freq.most_common(100)"
   ]
  },
  {
   "cell_type": "code",
   "execution_count": 242,
   "metadata": {},
   "outputs": [
    {
     "data": {
      "text/plain": [
       "array(['airbnb', '2261'], dtype='<U11')"
      ]
     },
     "execution_count": 242,
     "metadata": {},
     "output_type": "execute_result"
    }
   ],
   "source": [
    "np.array(common_words)[0]"
   ]
  },
  {
   "cell_type": "code",
   "execution_count": 49,
   "metadata": {},
   "outputs": [],
   "source": [
    "np.savetxt(\"common_words_airbnb.csv\", np.asarray(common_words), delimiter=\",\", fmt='%s')"
   ]
  },
  {
   "cell_type": "code",
   "execution_count": 51,
   "metadata": {},
   "outputs": [],
   "source": [
    "data[15]['score'];\n",
    "data[15]['upvote_ratio'];\n",
    "data[15];"
   ]
  },
  {
   "cell_type": "code",
   "execution_count": 38,
   "metadata": {},
   "outputs": [],
   "source": [
    "from topics import topic_model, topic_vector"
   ]
  },
  {
   "cell_type": "code",
   "execution_count": 84,
   "metadata": {},
   "outputs": [
    {
     "data": {
      "text/plain": [
       "0.3098100658300737"
      ]
     },
     "execution_count": 84,
     "metadata": {},
     "output_type": "execute_result"
    }
   ],
   "source": [
    "coherence"
   ]
  },
  {
   "cell_type": "code",
   "execution_count": 87,
   "metadata": {},
   "outputs": [],
   "source": [
    "cos = []\n",
    "for i in range(1,25):\n",
    "    model, corpus, coherence, perplexity = topic_model(tokenized_docs=docs_tokenized, num_topics=i, workers=8)\n",
    "    cos.append(coherence)"
   ]
  },
  {
   "cell_type": "code",
   "execution_count": 88,
   "metadata": {},
   "outputs": [
    {
     "data": {
      "image/png": "[encoded data removed]",
      "text/plain": [
       "<Figure size 432x288 with 1 Axes>"
      ]
     },
     "metadata": {
      "needs_background": "light"
     },
     "output_type": "display_data"
    }
   ],
   "source": [
    "topic_num = range(1,25)\n",
    "plt.plot(topic_num, cos)\n",
    "plt.xlabel = '# of Topic'\n",
    "plt.ylabel = 'Coherence'\n",
    "plt.show()"
   ]
  },
  {
   "cell_type": "code",
   "execution_count": 93,
   "metadata": {},
   "outputs": [
    {
     "data": {
      "text/plain": [
       "array([0.00666704, 0.00666704, 0.00666704, 0.00666704, 0.00666704,\n",
       "       0.00666704, 0.00666704, 0.00666704, 0.00666704, 0.00666704,\n",
       "       0.00666704, 0.00666704, 0.00666704, 0.00666704, 0.00666704,\n",
       "       0.00666704, 0.00666704, 0.00666704, 0.00666704, 0.00666704,\n",
       "       0.00666704, 0.00666704, 0.00666704, 0.00666704, 0.00666704,\n",
       "       0.00666704, 0.00666704, 0.00666704, 0.00666704, 0.00666704,\n",
       "       0.00666704, 0.00666704, 0.67331487, 0.00666704, 0.00666704,\n",
       "       0.00666704, 0.00666704, 0.00666704, 0.00666704, 0.00666704,\n",
       "       0.00666704, 0.00666704, 0.00666704, 0.00666704, 0.00666704,\n",
       "       0.00666704, 0.00666704, 0.00666704, 0.00666704, 0.00666704],\n",
       "      dtype=float32)"
      ]
     },
     "execution_count": 93,
     "metadata": {},
     "output_type": "execute_result"
    }
   ],
   "source": [
    "model, corpus, coherence, perplexity = topic_model(tokenized_docs=docs_tokenized, num_topics=10, workers=8)"
   ]
  },
  {
   "cell_type": "code",
   "execution_count": 178,
   "metadata": {},
   "outputs": [],
   "source": [
    "post_topics = []\n",
    "\n",
    "for d in data:\n",
    "    doc = d['title'] + ' ' + d['text']\n",
    "    normalized_doc = normalize(nlp, doc, remove_stops=True, ngrams=True)\n",
    "\n",
    "    t_vec = topic_vector(model, normalized_doc)\n",
    "    try:\n",
    "        index = np.where(t_vec == max(t_vec))[0][0]\n",
    "    except:\n",
    "        index = 0\n",
    "    topic = model.show_topic(index)\n",
    "    \n",
    "    topic_list = [i[0] for i in topic]\n",
    "    \n",
    "    post_topic = {'topic_id': index, 'upvote_ratio': d['upvote_ratio'], 'score': d['score'], 'topic': topic_list, 'topic_prob': max(t_vec)}\n",
    "    \n",
    "    post_topics.append(post_topic)\n",
    "    "
   ]
  },
  {
   "cell_type": "code",
   "execution_count": 179,
   "metadata": {},
   "outputs": [],
   "source": [
    "topic_output_array = []\n",
    "for i in range(0, len(post_topics)):\n",
    "    topic = post_topics[i]\n",
    "    topic_output_array.append([topic['topic_id'], ' '.join(topic['topic']), topic['topic_prob'], topic['score'], topic['upvote_ratio']])"
   ]
  },
  {
   "cell_type": "code",
   "execution_count": 180,
   "metadata": {},
   "outputs": [],
   "source": [
    "np.savetxt(\"topics_airbnb.csv\", np.asarray(topic_output_array), delimiter=\",\", fmt='%s')"
   ]
  },
  {
   "cell_type": "code",
   "execution_count": 243,
   "metadata": {},
   "outputs": [],
   "source": [
    "post_word = [['most_common_word', 'word_count', 'score']]\n",
    "\n",
    "for d in data:\n",
    "    doc = d['title'] + ' ' + d['text']\n",
    "    normalized_doc = normalize(nlp, doc, remove_stops=True, ngrams=True)\n",
    "\n",
    "    doc_tokenized = normalized_doc.split()\n",
    "    \n",
    "    word_freq = Counter(doc_tokenized)\n",
    "    most_common_word = word_freq.most_common(1)\n",
    "    \n",
    "    try:\n",
    "        post_word.append([most_common_word[0][0], most_common_word[0][1], d['score']])\n",
    "    except:\n",
    "        pass\n"
   ]
  },
  {
   "cell_type": "code",
   "execution_count": 244,
   "metadata": {},
   "outputs": [],
   "source": [
    "np.savetxt(\"top_word_vs_score_airbnb.csv\", np.asarray(post_word), delimiter=\",\", fmt='%s')"
   ]
  },
  {
   "cell_type": "markdown",
   "metadata": {},
   "source": [
    "# Uber"
   ]
  },
  {
   "cell_type": "code",
   "execution_count": 188,
   "metadata": {},
   "outputs": [
    {
     "name": "stdout",
     "output_type": "stream",
     "text": [
      "loaded 1000 reddit submissions\n"
     ]
    }
   ],
   "source": [
    "from reddit import load\n",
    "\n",
    "# add additional subreddits below or comment them out with #\n",
    "subreddits = \"\"\"\\\n",
    "https://www.reddit.com/r/uberdrivers/\n",
    "\"\"\"\n",
    "\n",
    "data = load(subreddits.split())"
   ]
  },
  {
   "cell_type": "code",
   "execution_count": 189,
   "metadata": {},
   "outputs": [],
   "source": [
    "docs = [d['title'] + ' ' + d['text'] for d in data]\n",
    "normalized_docs = [normalize(nlp, d, remove_stops=True, ngrams=True) for d in docs]\n",
    "docs_tokenized = [d.split() for d in normalized_docs]"
   ]
  },
  {
   "cell_type": "code",
   "execution_count": 190,
   "metadata": {},
   "outputs": [],
   "source": [
    "model, corpus, coherence, perplexity = topic_model(tokenized_docs=docs_tokenized, num_topics=10, workers=8)"
   ]
  },
  {
   "cell_type": "code",
   "execution_count": 191,
   "metadata": {},
   "outputs": [],
   "source": [
    "post_topics = []\n",
    "\n",
    "for d in data:\n",
    "    doc = d['title'] + ' ' + d['text']\n",
    "    normalized_doc = normalize(nlp, doc, remove_stops=True, ngrams=True)\n",
    "\n",
    "    t_vec = topic_vector(model, normalized_doc)\n",
    "    try:\n",
    "        index = np.where(t_vec == max(t_vec))[0][0]\n",
    "    except:\n",
    "        index = 0\n",
    "    topic = model.show_topic(index)\n",
    "    \n",
    "    topic_list = [i[0] for i in topic]\n",
    "    \n",
    "    post_topic = {'topic_id': index, 'upvote_ratio': d['upvote_ratio'], 'score': d['score'], 'topic': topic_list, 'topic_prob': max(t_vec)}\n",
    "    \n",
    "    post_topics.append(post_topic)\n",
    "    "
   ]
  },
  {
   "cell_type": "code",
   "execution_count": 192,
   "metadata": {},
   "outputs": [],
   "source": [
    "topic_output_array = []\n",
    "for i in range(0, len(post_topics)):\n",
    "    topic = post_topics[i]\n",
    "    topic_output_array.append([topic['topic_id'], ' '.join(topic['topic']), topic['topic_prob'], topic['score'], topic['upvote_ratio']])"
   ]
  },
  {
   "cell_type": "code",
   "execution_count": 193,
   "metadata": {},
   "outputs": [],
   "source": [
    "np.savetxt(\"topics_uber.csv\", np.asarray(topic_output_array), delimiter=\",\", fmt='%s')"
   ]
  },
  {
   "cell_type": "code",
   "execution_count": 194,
   "metadata": {},
   "outputs": [],
   "source": [
    "flat_doc = [item for sublist in docs_tokenized for item in sublist]"
   ]
  },
  {
   "cell_type": "code",
   "execution_count": 195,
   "metadata": {},
   "outputs": [],
   "source": [
    "from collections import Counter\n",
    "word_freq = Counter(flat_doc)\n",
    "common_words = word_freq.most_common(100)"
   ]
  },
  {
   "cell_type": "code",
   "execution_count": 196,
   "metadata": {},
   "outputs": [],
   "source": [
    "np.savetxt(\"common_words_uber.csv\", np.asarray(common_words), delimiter=\",\", fmt='%s')"
   ]
  },
  {
   "cell_type": "code",
   "execution_count": 197,
   "metadata": {},
   "outputs": [
    {
     "data": {
      "text/plain": [
       "[2, 'tell minute pax car start drive ask time wait guy', 0.9133819, 625, 0.99]"
      ]
     },
     "execution_count": 197,
     "metadata": {},
     "output_type": "execute_result"
    }
   ],
   "source": [
    "topic_output_array[0]"
   ]
  },
  {
   "cell_type": "code",
   "execution_count": 235,
   "metadata": {},
   "outputs": [],
   "source": [
    "post_word = [['most_common_word', 'word_count', 'score']]\n",
    "\n",
    "for d in data:\n",
    "    doc = d['title'] + ' ' + d['text']\n",
    "    normalized_doc = normalize(nlp, doc, remove_stops=True, ngrams=True)\n",
    "\n",
    "    doc_tokenized = normalized_doc.split()\n",
    "    \n",
    "    word_freq = Counter(doc_tokenized)\n",
    "    most_common_word = word_freq.most_common(1)\n",
    "    \n",
    "    try:\n",
    "        post_word.append([most_common_word[0][0], most_common_word[0][1], d['score']])\n",
    "    except:\n",
    "        pass\n"
   ]
  },
  {
   "cell_type": "code",
   "execution_count": 237,
   "metadata": {},
   "outputs": [],
   "source": [
    "np.savetxt(\"top_word_vs_score_uber.csv\", np.asarray(post_word), delimiter=\",\", fmt='%s')"
   ]
  },
  {
   "cell_type": "code",
   "execution_count": 232,
   "metadata": {},
   "outputs": [],
   "source": []
  },
  {
   "cell_type": "code",
   "execution_count": null,
   "metadata": {},
   "outputs": [],
   "source": []
  },
  {
   "cell_type": "code",
   "execution_count": null,
   "metadata": {},
   "outputs": [],
   "source": []
  },
  {
   "cell_type": "code",
   "execution_count": null,
   "metadata": {},
   "outputs": [],
   "source": []
  },
  {
   "cell_type": "code",
   "execution_count": null,
   "metadata": {},
   "outputs": [],
   "source": []
  }
 ],
 "metadata": {
  "kernelspec": {
   "display_name": "venv_reddit",
   "language": "python",
   "name": "venv_reddit"
  },
  "language_info": {
   "codemirror_mode": {
    "name": "ipython",
    "version": 3
   },
   "file_extension": ".py",
   "mimetype": "text/x-python",
   "name": "python",
   "nbconvert_exporter": "python",
   "pygments_lexer": "ipython3",
   "version": "3.7.5"
  }
 },
 "nbformat": 4,
 "nbformat_minor": 4
}
